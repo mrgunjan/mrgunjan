{
  "nbformat": 4,
  "nbformat_minor": 0,
  "metadata": {
    "colab": {
      "name": "Untitled0.ipynb",
      "provenance": [],
      "collapsed_sections": [],
      "authorship_tag": "ABX9TyMiRtOXHs9N0Uuz0E8RD93N",
      "include_colab_link": true
    },
    "kernelspec": {
      "name": "python3",
      "display_name": "Python 3"
    },
    "language_info": {
      "name": "python"
    }
  },
  "cells": [
    {
      "cell_type": "markdown",
      "metadata": {
        "id": "view-in-github",
        "colab_type": "text"
      },
      "source": [
        "<a href=\"https://colab.research.google.com/github/mrgunjan/mrgunjan/blob/main/Untitled0.ipynb\" target=\"_parent\"><img src=\"https://colab.research.google.com/assets/colab-badge.svg\" alt=\"Open In Colab\"/></a>"
      ]
    },
    {
      "cell_type": "code",
      "execution_count": null,
      "metadata": {
        "colab": {
          "base_uri": "https://localhost:8080/"
        },
        "id": "Y_vwdpeG08fD",
        "outputId": "3cb087d1-9226-422c-884d-a6dca0cf76e3"
      },
      "outputs": [
        {
          "output_type": "stream",
          "name": "stdout",
          "text": [
            "enter value =  9 and enter threshold= 10\n",
            "the above threshold\n"
          ]
        }
      ],
      "source": [
        "\n",
        "print(\"enter value = \", value, \"and enter threshold=\",threshold)\n",
        "\n",
        "\n",
        "if value>threshold:\n",
        "  print(\"the above value\")\n",
        "\n",
        "\n",
        "else:\n",
        "  print(\"the above threshold\")"
      ]
    }
  ]
}