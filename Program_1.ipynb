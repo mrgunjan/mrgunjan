{
  "nbformat": 4,
  "nbformat_minor": 0,
  "metadata": {
    "colab": {
      "name": "Program 1",
      "provenance": [],
      "collapsed_sections": [],
      "authorship_tag": "ABX9TyNIY8c4NkLAeRah35VMLVhf",
      "include_colab_link": true
    },
    "kernelspec": {
      "name": "python3",
      "display_name": "Python 3"
    },
    "language_info": {
      "name": "python"
    }
  },
  "cells": [
    {
      "cell_type": "markdown",
      "metadata": {
        "id": "view-in-github",
        "colab_type": "text"
      },
      "source": [
        "<a href=\"https://colab.research.google.com/github/mrgunjan/mrgunjan/blob/main/Program_1.ipynb\" target=\"_parent\"><img src=\"https://colab.research.google.com/assets/colab-badge.svg\" alt=\"Open In Colab\"/></a>"
      ]
    },
    {
      "cell_type": "markdown",
      "metadata": {
        "id": "dpHasbOchdNT"
      },
      "source": [
        "***Ex1***"
      ]
    },
    {
      "cell_type": "code",
      "metadata": {
        "colab": {
          "base_uri": "https://localhost:8080/"
        },
        "id": "K2xrdNB4blhU",
        "outputId": "01e77ec6-cda3-4f9e-a03e-e4f32a9eabaf"
      },
      "source": [
        "2-3"
      ],
      "execution_count": null,
      "outputs": [
        {
          "output_type": "execute_result",
          "data": {
            "text/plain": [
              "-1"
            ]
          },
          "metadata": {},
          "execution_count": 1
        }
      ]
    },
    {
      "cell_type": "markdown",
      "metadata": {
        "id": "hYUJ-xYuhpUQ"
      },
      "source": [
        "***Ex2***"
      ]
    },
    {
      "cell_type": "code",
      "metadata": {
        "colab": {
          "base_uri": "https://localhost:8080/"
        },
        "id": "Nv5TrxMUfR_0",
        "outputId": "e2713041-6bf3-4b41-c4bf-c156bfe1b362"
      },
      "source": [
        "2+3"
      ],
      "execution_count": null,
      "outputs": [
        {
          "output_type": "execute_result",
          "data": {
            "text/plain": [
              "5"
            ]
          },
          "metadata": {},
          "execution_count": 2
        }
      ]
    },
    {
      "cell_type": "markdown",
      "metadata": {
        "id": "HBUorU3zf-lp"
      },
      "source": [
        "***Addition***"
      ]
    },
    {
      "cell_type": "code",
      "metadata": {
        "colab": {
          "base_uri": "https://localhost:8080/"
        },
        "id": "ANxMDEUZfkUk",
        "outputId": "a20c9979-63f2-44d0-c399-42ed67f4a111"
      },
      "source": [
        "a=5\n",
        "b=6\n",
        "c=a+b\n",
        "c"
      ],
      "execution_count": null,
      "outputs": [
        {
          "output_type": "execute_result",
          "data": {
            "text/plain": [
              "11"
            ]
          },
          "metadata": {},
          "execution_count": 3
        }
      ]
    },
    {
      "cell_type": "code",
      "metadata": {
        "colab": {
          "base_uri": "https://localhost:8080/"
        },
        "id": "7ZSq60KPkUxi",
        "outputId": "d0d260ee-0b5a-40ce-c36b-1bd47fb95132"
      },
      "source": [
        "e=a+b\n",
        "e"
      ],
      "execution_count": null,
      "outputs": [
        {
          "output_type": "execute_result",
          "data": {
            "text/plain": [
              "11"
            ]
          },
          "metadata": {},
          "execution_count": 4
        }
      ]
    },
    {
      "cell_type": "markdown",
      "metadata": {
        "id": "rNcKbUb0gTE4"
      },
      "source": [
        "***Subraction***"
      ]
    },
    {
      "cell_type": "code",
      "metadata": {
        "colab": {
          "base_uri": "https://localhost:8080/"
        },
        "id": "4oMXTe7PgBGV",
        "outputId": "185b0dcd-876f-41dc-bc48-d1f8c32f7a5d"
      },
      "source": [
        "a=5\n",
        "b=7\n",
        "c=a-b\n",
        "c"
      ],
      "execution_count": null,
      "outputs": [
        {
          "output_type": "execute_result",
          "data": {
            "text/plain": [
              "-2"
            ]
          },
          "metadata": {},
          "execution_count": 5
        }
      ]
    },
    {
      "cell_type": "markdown",
      "metadata": {
        "id": "7KUeA7WXgw1x"
      },
      "source": [
        "***Multiplication***"
      ]
    },
    {
      "cell_type": "code",
      "metadata": {
        "colab": {
          "base_uri": "https://localhost:8080/"
        },
        "id": "9GI2aHBgkvdd",
        "outputId": "53174cc5-2ab2-4e3e-e418-a8c695b66bc2"
      },
      "source": [
        "d=c-a\n",
        "d"
      ],
      "execution_count": null,
      "outputs": [
        {
          "output_type": "execute_result",
          "data": {
            "text/plain": [
              "-7"
            ]
          },
          "metadata": {},
          "execution_count": 6
        }
      ]
    },
    {
      "cell_type": "code",
      "metadata": {
        "colab": {
          "base_uri": "https://localhost:8080/"
        },
        "id": "s-IEoeF5glAY",
        "outputId": "88a55d03-392f-4a8c-d681-d3d04db764fa"
      },
      "source": [
        "a=5\n",
        "b=7\n",
        "c=a*b\n",
        "c"
      ],
      "execution_count": null,
      "outputs": [
        {
          "output_type": "execute_result",
          "data": {
            "text/plain": [
              "35"
            ]
          },
          "metadata": {},
          "execution_count": 7
        }
      ]
    },
    {
      "cell_type": "markdown",
      "metadata": {
        "id": "0QfriXPLhU6S"
      },
      "source": [
        "***Dividation***"
      ]
    },
    {
      "cell_type": "code",
      "metadata": {
        "id": "e6z81V9eg7WX"
      },
      "source": [
        "a=5\n",
        "b=7\n"
      ],
      "execution_count": null,
      "outputs": []
    },
    {
      "cell_type": "code",
      "metadata": {
        "colab": {
          "base_uri": "https://localhost:8080/"
        },
        "id": "rcyum8p1l5BD",
        "outputId": "afd4d034-55d6-411d-f093-7d4a64018dfe"
      },
      "source": [
        "g=d*a\n",
        "g"
      ],
      "execution_count": null,
      "outputs": [
        {
          "output_type": "execute_result",
          "data": {
            "text/plain": [
              "-35"
            ]
          },
          "metadata": {},
          "execution_count": 9
        }
      ]
    }
  ]
}